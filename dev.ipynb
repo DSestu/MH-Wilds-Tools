{
 "cells": [
  {
   "cell_type": "code",
   "execution_count": 11,
   "metadata": {},
   "outputs": [],
   "source": [
    "import polars as pl\n",
    "from ortools.sat.python import cp_model\n",
    "\n",
    "armor = pl.read_parquet(\"data/armor_pieces.parquet\")\n",
    "charms = pl.read_parquet(\"data/charms.parquet\")\n",
    "jewels = pl.read_parquet(\"data/jewels.parquet\")\n",
    "talents = pl.read_parquet(\"data/talents.parquet\")\n",
    "weapons = pl.read_parquet(\"data/weapons.parquet\")\n"
   ]
  },
  {
   "cell_type": "code",
   "execution_count": 6,
   "metadata": {},
   "outputs": [],
   "source": [
    "model = cp_model.CpModel()"
   ]
  },
  {
   "cell_type": "code",
   "execution_count": 54,
   "metadata": {},
   "outputs": [
    {
     "data": {
      "text/plain": [
       "<ortools.sat.python.cp_model.Constraint at 0x1690853d460>"
      ]
     },
     "execution_count": 54,
     "metadata": {},
     "output_type": "execute_result"
    }
   ],
   "source": [
    "use_equipement_vars = {}\n",
    "talents_not_aggregated = {}\n",
    "talents_aggregated = {}\n",
    "\n",
    "use_equipement_vars[\"charm\"] = {}\n",
    "\n",
    "# Create non aggregated talent list\n",
    "for charm in charms.iter_rows():\n",
    "    charm_name, charm_href, talent_name, talent_level = charm\n",
    "\n",
    "    use_charm = model.NewBoolVar(f\"use_charm_{charm_name}\")\n",
    "\n",
    "    charm_talent_level = model.NewIntVar(\n",
    "        lb=0,\n",
    "        ub=4,\n",
    "        name=f\"charm_{charm_name}_talent_{talent_name}_level_{talent_level}\",\n",
    "    )\n",
    "\n",
    "    model.Add(charm_talent_level == talent_level).only_enforce_if(use_charm)\n",
    "    model.Add(charm_talent_level == 0).only_enforce_if(use_charm.Not())\n",
    "\n",
    "    # Store variables\n",
    "    use_equipement_vars[\"charm\"][charm_name] = use_charm\n",
    "\n",
    "    if talents_not_aggregated.get(talent_name) is None:\n",
    "        talents_not_aggregated[talent_name] = []\n",
    "    talents_not_aggregated[talent_name].append(charm_talent_level)\n",
    "\n",
    "# Compute talent sums into proxy variables\n",
    "for talent_name, talent_lvl_list in talents_not_aggregated.items():\n",
    "    talent_sum = model.NewIntVar(0, 4, f\"talent_sum_{talent_name}\")\n",
    "\n",
    "    # Map the sum\n",
    "    model.Add(talent_sum == sum(talent_lvl_list))\n",
    "    talents_aggregated[talent_name] = talent_sum\n",
    "\n",
    "# Say that there is at most one charm\n",
    "model.Add(sum(list(use_equipement_vars[\"charm\"].values())) <= 1)\n"
   ]
  },
  {
   "cell_type": "code",
   "execution_count": 56,
   "metadata": {},
   "outputs": [
    {
     "name": "stdout",
     "output_type": "stream",
     "text": [
      "Solver status: OPTIMAL\n",
      "Talisman de récupération III\n"
     ]
    }
   ],
   "source": [
    "single_objective = talents_aggregated[\"Cercle de vie\"]\n",
    "# single_objective = talents_aggregated[\"Auto-amélioration\"]\n",
    "\n",
    "model.maximize(single_objective)\n",
    "solver = cp_model.CpSolver()\n",
    "status = solver.solve(model)\n",
    "\n",
    "solver_statuses = {\n",
    "    cp_model.FEASIBLE: \"FEASIBLE\",\n",
    "    cp_model.MODEL_INVALID: \"MODEL_INVALID\",\n",
    "    cp_model.OPTIMAL: \"OPTIMAL\",\n",
    "    cp_model.INFEASIBLE: \"INFEASIBLE\",\n",
    "    cp_model.UNKNOWN: \"UNKNOWN\",\n",
    "}\n",
    "\n",
    "print(f\"Solver status: {solver_statuses[status]}\")\n",
    "# if status in (cp_model.OPTIMAL, status == cp_model.FEASIBLE):\n",
    "#     print(solver.value(single_objective))\n",
    "for charm_name, use_charm_variable in use_equipement_vars[\"charm\"].items():\n",
    "    if solver.value(use_charm_variable) == 1:\n",
    "        print(charm_name)\n"
   ]
  },
  {
   "cell_type": "code",
   "execution_count": null,
   "metadata": {},
   "outputs": [
    {
     "data": {
      "text/plain": [
       "4"
      ]
     },
     "execution_count": 38,
     "metadata": {},
     "output_type": "execute_result"
    }
   ],
   "source": []
  },
  {
   "cell_type": "code",
   "execution_count": null,
   "metadata": {},
   "outputs": [
    {
     "name": "stdout",
     "output_type": "stream",
     "text": [
      "Solver status: OPTIMAL\n",
      "Avant-bras Gypceros α (Bras)\n"
     ]
    },
    {
     "data": {
      "text/html": [
       "<div><style>\n",
       ".dataframe > thead > tr,\n",
       ".dataframe > tbody > tr {\n",
       "  text-align: right;\n",
       "  white-space: pre-wrap;\n",
       "}\n",
       "</style>\n",
       "<small>shape: (3, 9)</small><table border=\"1\" class=\"dataframe\"><thead><tr><th>piece</th><th>name</th><th>talent_name</th><th>talent_level</th><th>jewel_0</th><th>jewel_1</th><th>jewel_2</th><th>jewel_3</th><th>jewel_4</th></tr><tr><td>str</td><td>str</td><td>str</td><td>i64</td><td>i64</td><td>i64</td><td>i64</td><td>i64</td><td>i64</td></tr></thead><tbody><tr><td>&quot;Bras&quot;</td><td>&quot;Avant-bras Gypceros α&quot;</td><td>&quot;Cuir souple&quot;</td><td>1</td><td>3</td><td>0</td><td>0</td><td>0</td><td>0</td></tr><tr><td>&quot;Bras&quot;</td><td>&quot;Avant-bras Gypceros α&quot;</td><td>&quot;Vengeance&quot;</td><td>2</td><td>3</td><td>0</td><td>0</td><td>0</td><td>0</td></tr><tr><td>&quot;Bras&quot;</td><td>&quot;Avant-bras Gypceros α&quot;</td><td>&quot;Toxicologie&quot;</td><td>1</td><td>3</td><td>0</td><td>0</td><td>0</td><td>0</td></tr></tbody></table></div>"
      ],
      "text/plain": [
       "shape: (3, 9)\n",
       "┌───────┬────────────┬─────────────┬──────────────┬───┬─────────┬─────────┬─────────┬─────────┐\n",
       "│ piece ┆ name       ┆ talent_name ┆ talent_level ┆ … ┆ jewel_1 ┆ jewel_2 ┆ jewel_3 ┆ jewel_4 │\n",
       "│ ---   ┆ ---        ┆ ---         ┆ ---          ┆   ┆ ---     ┆ ---     ┆ ---     ┆ ---     │\n",
       "│ str   ┆ str        ┆ str         ┆ i64          ┆   ┆ i64     ┆ i64     ┆ i64     ┆ i64     │\n",
       "╞═══════╪════════════╪═════════════╪══════════════╪═══╪═════════╪═════════╪═════════╪═════════╡\n",
       "│ Bras  ┆ Avant-bras ┆ Cuir souple ┆ 1            ┆ … ┆ 0       ┆ 0       ┆ 0       ┆ 0       │\n",
       "│       ┆ Gypceros α ┆             ┆              ┆   ┆         ┆         ┆         ┆         │\n",
       "│ Bras  ┆ Avant-bras ┆ Vengeance   ┆ 2            ┆ … ┆ 0       ┆ 0       ┆ 0       ┆ 0       │\n",
       "│       ┆ Gypceros α ┆             ┆              ┆   ┆         ┆         ┆         ┆         │\n",
       "│ Bras  ┆ Avant-bras ┆ Toxicologie ┆ 1            ┆ … ┆ 0       ┆ 0       ┆ 0       ┆ 0       │\n",
       "│       ┆ Gypceros α ┆             ┆              ┆   ┆         ┆         ┆         ┆         │\n",
       "└───────┴────────────┴─────────────┴──────────────┴───┴─────────┴─────────┴─────────┴─────────┘"
      ]
     },
     "metadata": {},
     "output_type": "display_data"
    },
    {
     "name": "stdout",
     "output_type": "stream",
     "text": [
      "Talons putrides α (Jambes)\n"
     ]
    },
    {
     "data": {
      "text/html": [
       "<div><style>\n",
       ".dataframe > thead > tr,\n",
       ".dataframe > tbody > tr {\n",
       "  text-align: right;\n",
       "  white-space: pre-wrap;\n",
       "}\n",
       "</style>\n",
       "<small>shape: (3, 9)</small><table border=\"1\" class=\"dataframe\"><thead><tr><th>piece</th><th>name</th><th>talent_name</th><th>talent_level</th><th>jewel_0</th><th>jewel_1</th><th>jewel_2</th><th>jewel_3</th><th>jewel_4</th></tr><tr><td>str</td><td>str</td><td>str</td><td>i64</td><td>i64</td><td>i64</td><td>i64</td><td>i64</td><td>i64</td></tr></thead><tbody><tr><td>&quot;Jambes&quot;</td><td>&quot;Talons putrides α&quot;</td><td>&quot;Sagesse transmise&quot;</td><td>1</td><td>1</td><td>1</td><td>1</td><td>0</td><td>0</td></tr><tr><td>&quot;Jambes&quot;</td><td>&quot;Talons putrides α&quot;</td><td>&quot;Vengeance&quot;</td><td>1</td><td>1</td><td>1</td><td>1</td><td>0</td><td>0</td></tr><tr><td>&quot;Jambes&quot;</td><td>&quot;Talons putrides α&quot;</td><td>&quot;Crâne d&#x27;acier&quot;</td><td>2</td><td>1</td><td>1</td><td>1</td><td>0</td><td>0</td></tr></tbody></table></div>"
      ],
      "text/plain": [
       "shape: (3, 9)\n",
       "┌────────┬───────────────┬──────────────┬──────────────┬───┬─────────┬─────────┬─────────┬─────────┐\n",
       "│ piece  ┆ name          ┆ talent_name  ┆ talent_level ┆ … ┆ jewel_1 ┆ jewel_2 ┆ jewel_3 ┆ jewel_4 │\n",
       "│ ---    ┆ ---           ┆ ---          ┆ ---          ┆   ┆ ---     ┆ ---     ┆ ---     ┆ ---     │\n",
       "│ str    ┆ str           ┆ str          ┆ i64          ┆   ┆ i64     ┆ i64     ┆ i64     ┆ i64     │\n",
       "╞════════╪═══════════════╪══════════════╪══════════════╪═══╪═════════╪═════════╪═════════╪═════════╡\n",
       "│ Jambes ┆ Talons        ┆ Sagesse      ┆ 1            ┆ … ┆ 1       ┆ 1       ┆ 0       ┆ 0       │\n",
       "│        ┆ putrides α    ┆ transmise    ┆              ┆   ┆         ┆         ┆         ┆         │\n",
       "│ Jambes ┆ Talons        ┆ Vengeance    ┆ 1            ┆ … ┆ 1       ┆ 1       ┆ 0       ┆ 0       │\n",
       "│        ┆ putrides α    ┆              ┆              ┆   ┆         ┆         ┆         ┆         │\n",
       "│ Jambes ┆ Talons        ┆ Crâne        ┆ 2            ┆ … ┆ 1       ┆ 1       ┆ 0       ┆ 0       │\n",
       "│        ┆ putrides α    ┆ d'acier      ┆              ┆   ┆         ┆         ┆         ┆         │\n",
       "└────────┴───────────────┴──────────────┴──────────────┴───┴─────────┴─────────┴─────────┴─────────┘"
      ]
     },
     "metadata": {},
     "output_type": "display_data"
    },
    {
     "name": "stdout",
     "output_type": "stream",
     "text": [
      "Tassette Nu Udra β (Taille)\n"
     ]
    },
    {
     "data": {
      "text/html": [
       "<div><style>\n",
       ".dataframe > thead > tr,\n",
       ".dataframe > tbody > tr {\n",
       "  text-align: right;\n",
       "  white-space: pre-wrap;\n",
       "}\n",
       "</style>\n",
       "<small>shape: (3, 9)</small><table border=\"1\" class=\"dataframe\"><thead><tr><th>piece</th><th>name</th><th>talent_name</th><th>talent_level</th><th>jewel_0</th><th>jewel_1</th><th>jewel_2</th><th>jewel_3</th><th>jewel_4</th></tr><tr><td>str</td><td>str</td><td>str</td><td>i64</td><td>i64</td><td>i64</td><td>i64</td><td>i64</td><td>i64</td></tr></thead><tbody><tr><td>&quot;Taille&quot;</td><td>&quot;Tassette Nu Udra β&quot;</td><td>&quot;Mutinerie du Nu Udra&quot;</td><td>1</td><td>2</td><td>0</td><td>0</td><td>1</td><td>0</td></tr><tr><td>&quot;Taille&quot;</td><td>&quot;Tassette Nu Udra β&quot;</td><td>&quot;Rage supérieure&quot;</td><td>1</td><td>2</td><td>0</td><td>0</td><td>1</td><td>0</td></tr><tr><td>&quot;Taille&quot;</td><td>&quot;Tassette Nu Udra β&quot;</td><td>&quot;Vengeance&quot;</td><td>2</td><td>2</td><td>0</td><td>0</td><td>1</td><td>0</td></tr></tbody></table></div>"
      ],
      "text/plain": [
       "shape: (3, 9)\n",
       "┌────────┬───────────────┬──────────────┬──────────────┬───┬─────────┬─────────┬─────────┬─────────┐\n",
       "│ piece  ┆ name          ┆ talent_name  ┆ talent_level ┆ … ┆ jewel_1 ┆ jewel_2 ┆ jewel_3 ┆ jewel_4 │\n",
       "│ ---    ┆ ---           ┆ ---          ┆ ---          ┆   ┆ ---     ┆ ---     ┆ ---     ┆ ---     │\n",
       "│ str    ┆ str           ┆ str          ┆ i64          ┆   ┆ i64     ┆ i64     ┆ i64     ┆ i64     │\n",
       "╞════════╪═══════════════╪══════════════╪══════════════╪═══╪═════════╪═════════╪═════════╪═════════╡\n",
       "│ Taille ┆ Tassette Nu   ┆ Mutinerie du ┆ 1            ┆ … ┆ 0       ┆ 0       ┆ 1       ┆ 0       │\n",
       "│        ┆ Udra β        ┆ Nu Udra      ┆              ┆   ┆         ┆         ┆         ┆         │\n",
       "│ Taille ┆ Tassette Nu   ┆ Rage         ┆ 1            ┆ … ┆ 0       ┆ 0       ┆ 1       ┆ 0       │\n",
       "│        ┆ Udra β        ┆ supérieure   ┆              ┆   ┆         ┆         ┆         ┆         │\n",
       "│ Taille ┆ Tassette Nu   ┆ Vengeance    ┆ 2            ┆ … ┆ 0       ┆ 0       ┆ 1       ┆ 0       │\n",
       "│        ┆ Udra β        ┆              ┆              ┆   ┆         ┆         ┆         ┆         │\n",
       "└────────┴───────────────┴──────────────┴──────────────┴───┴─────────┴─────────┴─────────┴─────────┘"
      ]
     },
     "metadata": {},
     "output_type": "display_data"
    },
    {
     "name": "stdout",
     "output_type": "stream",
     "text": [
      "Cotte Ajarakan β (Torse)\n"
     ]
    },
    {
     "data": {
      "text/html": [
       "<div><style>\n",
       ".dataframe > thead > tr,\n",
       ".dataframe > tbody > tr {\n",
       "  text-align: right;\n",
       "  white-space: pre-wrap;\n",
       "}\n",
       "</style>\n",
       "<small>shape: (2, 9)</small><table border=\"1\" class=\"dataframe\"><thead><tr><th>piece</th><th>name</th><th>talent_name</th><th>talent_level</th><th>jewel_0</th><th>jewel_1</th><th>jewel_2</th><th>jewel_3</th><th>jewel_4</th></tr><tr><td>str</td><td>str</td><td>str</td><td>i64</td><td>i64</td><td>i64</td><td>i64</td><td>i64</td><td>i64</td></tr></thead><tbody><tr><td>&quot;Torse&quot;</td><td>&quot;Cotte Ajarakan β&quot;</td><td>&quot;Pelage attrayant&quot;</td><td>1</td><td>2</td><td>0</td><td>1</td><td>0</td><td>0</td></tr><tr><td>&quot;Torse&quot;</td><td>&quot;Cotte Ajarakan β&quot;</td><td>&quot;Vengeance&quot;</td><td>2</td><td>2</td><td>0</td><td>1</td><td>0</td><td>0</td></tr></tbody></table></div>"
      ],
      "text/plain": [
       "shape: (2, 9)\n",
       "┌───────┬────────────┬──────────────────┬──────────────┬───┬─────────┬─────────┬─────────┬─────────┐\n",
       "│ piece ┆ name       ┆ talent_name      ┆ talent_level ┆ … ┆ jewel_1 ┆ jewel_2 ┆ jewel_3 ┆ jewel_4 │\n",
       "│ ---   ┆ ---        ┆ ---              ┆ ---          ┆   ┆ ---     ┆ ---     ┆ ---     ┆ ---     │\n",
       "│ str   ┆ str        ┆ str              ┆ i64          ┆   ┆ i64     ┆ i64     ┆ i64     ┆ i64     │\n",
       "╞═══════╪════════════╪══════════════════╪══════════════╪═══╪═════════╪═════════╪═════════╪═════════╡\n",
       "│ Torse ┆ Cotte      ┆ Pelage attrayant ┆ 1            ┆ … ┆ 0       ┆ 1       ┆ 0       ┆ 0       │\n",
       "│       ┆ Ajarakan β ┆                  ┆              ┆   ┆         ┆         ┆         ┆         │\n",
       "│ Torse ┆ Cotte      ┆ Vengeance        ┆ 2            ┆ … ┆ 0       ┆ 1       ┆ 0       ┆ 0       │\n",
       "│       ┆ Ajarakan β ┆                  ┆              ┆   ┆         ┆         ┆         ┆         │\n",
       "└───────┴────────────┴──────────────────┴──────────────┴───┴─────────┴─────────┴─────────┴─────────┘"
      ]
     },
     "metadata": {},
     "output_type": "display_data"
    },
    {
     "name": "stdout",
     "output_type": "stream",
     "text": [
      "Heaume Nu Udra α (Tête)\n"
     ]
    },
    {
     "data": {
      "text/html": [
       "<div><style>\n",
       ".dataframe > thead > tr,\n",
       ".dataframe > tbody > tr {\n",
       "  text-align: right;\n",
       "  white-space: pre-wrap;\n",
       "}\n",
       "</style>\n",
       "<small>shape: (4, 9)</small><table border=\"1\" class=\"dataframe\"><thead><tr><th>piece</th><th>name</th><th>talent_name</th><th>talent_level</th><th>jewel_0</th><th>jewel_1</th><th>jewel_2</th><th>jewel_3</th><th>jewel_4</th></tr><tr><td>str</td><td>str</td><td>str</td><td>i64</td><td>i64</td><td>i64</td><td>i64</td><td>i64</td><td>i64</td></tr></thead><tbody><tr><td>&quot;Tête&quot;</td><td>&quot;Heaume Nu Udra α&quot;</td><td>&quot;Mutinerie du Nu Udra&quot;</td><td>1</td><td>1</td><td>2</td><td>0</td><td>0</td><td>0</td></tr><tr><td>&quot;Tête&quot;</td><td>&quot;Heaume Nu Udra α&quot;</td><td>&quot;Faveur du seigneur&quot;</td><td>1</td><td>1</td><td>2</td><td>0</td><td>0</td><td>0</td></tr><tr><td>&quot;Tête&quot;</td><td>&quot;Heaume Nu Udra α&quot;</td><td>&quot;Vengeance&quot;</td><td>2</td><td>1</td><td>2</td><td>0</td><td>0</td><td>0</td></tr><tr><td>&quot;Tête&quot;</td><td>&quot;Heaume Nu Udra α&quot;</td><td>&quot;Contre-attaque&quot;</td><td>1</td><td>1</td><td>2</td><td>0</td><td>0</td><td>0</td></tr></tbody></table></div>"
      ],
      "text/plain": [
       "shape: (4, 9)\n",
       "┌───────┬───────────┬───────────────────┬──────────────┬───┬─────────┬─────────┬─────────┬─────────┐\n",
       "│ piece ┆ name      ┆ talent_name       ┆ talent_level ┆ … ┆ jewel_1 ┆ jewel_2 ┆ jewel_3 ┆ jewel_4 │\n",
       "│ ---   ┆ ---       ┆ ---               ┆ ---          ┆   ┆ ---     ┆ ---     ┆ ---     ┆ ---     │\n",
       "│ str   ┆ str       ┆ str               ┆ i64          ┆   ┆ i64     ┆ i64     ┆ i64     ┆ i64     │\n",
       "╞═══════╪═══════════╪═══════════════════╪══════════════╪═══╪═════════╪═════════╪═════════╪═════════╡\n",
       "│ Tête  ┆ Heaume Nu ┆ Mutinerie du Nu   ┆ 1            ┆ … ┆ 2       ┆ 0       ┆ 0       ┆ 0       │\n",
       "│       ┆ Udra α    ┆ Udra              ┆              ┆   ┆         ┆         ┆         ┆         │\n",
       "│ Tête  ┆ Heaume Nu ┆ Faveur du         ┆ 1            ┆ … ┆ 2       ┆ 0       ┆ 0       ┆ 0       │\n",
       "│       ┆ Udra α    ┆ seigneur          ┆              ┆   ┆         ┆         ┆         ┆         │\n",
       "│ Tête  ┆ Heaume Nu ┆ Vengeance         ┆ 2            ┆ … ┆ 2       ┆ 0       ┆ 0       ┆ 0       │\n",
       "│       ┆ Udra α    ┆                   ┆              ┆   ┆         ┆         ┆         ┆         │\n",
       "│ Tête  ┆ Heaume Nu ┆ Contre-attaque    ┆ 1            ┆ … ┆ 2       ┆ 0       ┆ 0       ┆ 0       │\n",
       "│       ┆ Udra α    ┆                   ┆              ┆   ┆         ┆         ┆         ┆         │\n",
       "└───────┴───────────┴───────────────────┴──────────────┴───┴─────────┴─────────┴─────────┴─────────┘"
      ]
     },
     "metadata": {},
     "output_type": "display_data"
    }
   ],
   "source": [
    "model = cp_model.CpModel()\n",
    "\n",
    "_vars = {\n",
    "    \"use_armor_piece_booleans\": {},\n",
    "    \"talent_lists\": {},\n",
    "    \"talent_sums\": {},\n",
    "    \"jewel_emplacement_lists\": {},\n",
    "    \"jewel_emplacement_sums\": {},\n",
    "    \"jewel_emplacement_sums_total_armor\": {},\n",
    "}\n",
    "\n",
    "unique_pieces = armor[\"piece\"].unique().sort().to_list()\n",
    "\n",
    "for armor_piece in unique_pieces:\n",
    "    if _vars.get(\"use_armor_piece_booleans\").get(armor_piece) is None:\n",
    "        _vars[\"use_armor_piece_booleans\"][armor_piece] = {}\n",
    "\n",
    "    if _vars.get(\"jewel_emplacement_lists\").get(armor_piece) is None:\n",
    "        _vars[\"jewel_emplacement_lists\"][armor_piece] = {}\n",
    "\n",
    "    if _vars.get(\"jewel_emplacement_sums\").get(armor_piece) is None:\n",
    "        _vars[\"jewel_emplacement_sums\"][armor_piece] = {}\n",
    "\n",
    "    armor_piece_filtered = armor.filter(pl.col(\"piece\") == armor_piece)\n",
    "    unique_armor_pieces_names = armor_piece_filtered[\"name\"].unique().sort().to_list()\n",
    "    for unique_armor_piece_name in unique_armor_pieces_names:\n",
    "        unique_armor_piece = armor_piece_filtered.filter(\n",
    "            pl.col(\"name\") == unique_armor_piece_name\n",
    "        )\n",
    "\n",
    "        # Define a boolean that tells if the armor piece is equipped\n",
    "        names = unique_armor_piece[\"name\"].to_list()\n",
    "        name = names[0]\n",
    "        armor_piece_equipped = model.NewBoolVar(f\"use_piece_{armor_piece}_{name}\")\n",
    "\n",
    "        for row in unique_armor_piece.iter_rows():\n",
    "            (\n",
    "                _,\n",
    "                name,\n",
    "                talent_name,\n",
    "                talent_level,\n",
    "                jewel_0,\n",
    "                jewel_1,\n",
    "                jewel_2,\n",
    "                jewel_3,\n",
    "                jewel_4,\n",
    "            ) = row\n",
    "            # Create a variable that tells that the talent is active due to the fact that the armor piece is equipped\n",
    "            var_talent_lvl = model.NewIntVar(\n",
    "                lb=0,\n",
    "                ub=30,\n",
    "                name=f\"talent_{talent_name}_from_type_{armor_piece}_with_{name}\",\n",
    "            )\n",
    "            model.Add(var_talent_lvl == talent_level).only_enforce_if(\n",
    "                armor_piece_equipped\n",
    "            )\n",
    "            model.Add(var_talent_lvl == 0).only_enforce_if(armor_piece_equipped.Not())\n",
    "\n",
    "            # Create the key if it doesn't exist\n",
    "            if _vars[\"talent_lists\"].get(talent_name) is None:\n",
    "                _vars[\"talent_lists\"][talent_name] = []\n",
    "\n",
    "            # Jewel emplacement part\n",
    "            # LVL 1\n",
    "            var_nb_jewel_1 = model.NewIntVar(\n",
    "                lb=0,\n",
    "                ub=4,\n",
    "                name=f\"jewel_lvl_1_from_type_{armor_piece}_with_{name}\",\n",
    "            )\n",
    "            model.Add(var_nb_jewel_1 == jewel_1).only_enforce_if(armor_piece_equipped)\n",
    "            model.Add(var_nb_jewel_1 == 0).only_enforce_if(armor_piece_equipped.Not())\n",
    "\n",
    "            # LVL 2\n",
    "            var_nb_jewel_2 = model.NewIntVar(\n",
    "                lb=0,\n",
    "                ub=4,\n",
    "                name=f\"jewel_lvl_2_from_type_{armor_piece}_with_{name}\",\n",
    "            )\n",
    "            model.Add(var_nb_jewel_2 == jewel_2).only_enforce_if(armor_piece_equipped)\n",
    "            model.Add(var_nb_jewel_2 == 0).only_enforce_if(armor_piece_equipped.Not())\n",
    "\n",
    "            # LVL 3\n",
    "            var_nb_jewel_3 = model.NewIntVar(\n",
    "                lb=0,\n",
    "                ub=4,\n",
    "                name=f\"jewel_lvl_3_from_type_{armor_piece}_with_{name}\",\n",
    "            )\n",
    "            model.Add(var_nb_jewel_3 == jewel_3).only_enforce_if(armor_piece_equipped)\n",
    "            model.Add(var_nb_jewel_3 == 0).only_enforce_if(armor_piece_equipped.Not())\n",
    "\n",
    "            # LVL 4\n",
    "            var_nb_jewel_4 = model.NewIntVar(\n",
    "                lb=0,\n",
    "                ub=4,\n",
    "                name=f\"jewel_lvl_4_from_type_{armor_piece}_with_{name}\",\n",
    "            )\n",
    "            model.Add(var_nb_jewel_4 == jewel_4).only_enforce_if(armor_piece_equipped)\n",
    "            model.Add(var_nb_jewel_4 == 0).only_enforce_if(armor_piece_equipped.Not())\n",
    "\n",
    "            # Register variables\n",
    "            _vars[\"talent_lists\"][talent_name].append(var_talent_lvl)\n",
    "\n",
    "        if _vars.get(\"jewel_emplacement_lists\").get(armor_piece) is None:\n",
    "            _vars[\"jewel_emplacement_lists\"][armor_piece] = {}\n",
    "\n",
    "        if _vars.get(\"jewel_emplacement_lists\").get(armor_piece).get(\"lvl1\") is None:\n",
    "            _vars[\"jewel_emplacement_lists\"][armor_piece][\"lvl1\"] = []\n",
    "        _vars[\"jewel_emplacement_lists\"][armor_piece][\"lvl1\"].append(var_nb_jewel_1)\n",
    "\n",
    "        if _vars.get(\"jewel_emplacement_lists\").get(armor_piece).get(\"lvl2\") is None:\n",
    "            _vars[\"jewel_emplacement_lists\"][armor_piece][\"lvl2\"] = []\n",
    "        _vars[\"jewel_emplacement_lists\"][armor_piece][\"lvl2\"].append(var_nb_jewel_2)\n",
    "\n",
    "        if _vars.get(\"jewel_emplacement_lists\").get(armor_piece).get(\"lvl3\") is None:\n",
    "            _vars[\"jewel_emplacement_lists\"][armor_piece][\"lvl3\"] = []\n",
    "        _vars[\"jewel_emplacement_lists\"][armor_piece][\"lvl3\"].append(var_nb_jewel_3)\n",
    "\n",
    "        if _vars.get(\"jewel_emplacement_lists\").get(armor_piece).get(\"lvl4\") is None:\n",
    "            _vars[\"jewel_emplacement_lists\"][armor_piece][\"lvl4\"] = []\n",
    "        _vars[\"jewel_emplacement_lists\"][armor_piece][\"lvl4\"].append(var_nb_jewel_4)\n",
    "\n",
    "        # Store the boolean that tells if the armor piece is equipped\n",
    "        _vars[\"use_armor_piece_booleans\"][armor_piece][name] = armor_piece_equipped\n",
    "\n",
    "    # Create variables that are the sum of the jewel emplacements\n",
    "    for i in range(1, 5):\n",
    "        lvl = f\"lvl{i}\"\n",
    "        var_jewel_emplacement_sums = model.NewIntVar(\n",
    "            lb=0,\n",
    "            ub=30,\n",
    "            name=f\"jewel_emplacement_sums_{lvl}_from_type_{armor_piece}\",\n",
    "        )\n",
    "        model.Add(\n",
    "            var_jewel_emplacement_sums\n",
    "            == sum(_vars[\"jewel_emplacement_lists\"][armor_piece][lvl])\n",
    "        )\n",
    "        _vars[\"jewel_emplacement_sums\"][armor_piece][lvl] = var_jewel_emplacement_sums\n",
    "\n",
    "    # Add the constraint of only one type of armor piece equipped at a time\n",
    "    model.Add(sum(_vars[\"use_armor_piece_booleans\"][armor_piece].values()) <= 1)\n",
    "\n",
    "# Create a variable that symbolizes the total number of armor jewels\n",
    "for i in range(1, 5):\n",
    "    lvl = f\"lvl{i}\"\n",
    "    var_jewel_emplacement_sums = model.NewIntVar(\n",
    "        lb=0,\n",
    "        ub=30,\n",
    "        name=f\"jewel_{lvl}_emplacement_sums_for_all_armor_pieces\",\n",
    "    )\n",
    "    model.Add(\n",
    "        var_jewel_emplacement_sums\n",
    "        == sum(\n",
    "            _vars[\"jewel_emplacement_sums\"][armor_piece][lvl]\n",
    "            for armor_piece in unique_pieces\n",
    "        )\n",
    "    )\n",
    "    _vars[\"jewel_emplacement_sums_total_armor\"][lvl] = var_jewel_emplacement_sums\n",
    "\n",
    "# Create a variable that symbolizes the total number of weapon jewels\n",
    "# ...\n",
    "\n",
    "# Jewel optimization part\n",
    "# ...\n",
    "\n",
    "# Charm talents part\n",
    "# ...\n",
    "\n",
    "# Compute the talent sums\n",
    "for talent_name, talent_vars in _vars[\"talent_lists\"].items():\n",
    "    var_talent_sum = model.NewIntVar(\n",
    "        lb=0,\n",
    "        ub=30,\n",
    "        name=f\"talent_sum_for_{talent_name}\",\n",
    "    )\n",
    "    model.Add(var_talent_sum == sum(talent_vars))\n",
    "\n",
    "    _vars[\"talent_sums\"][talent_name] = var_talent_sum\n",
    "\n",
    "# Add talent sum cap\n",
    "# ...\n",
    "\n",
    "# Add set bonus minmums\n",
    "# ...\n",
    "\n",
    "\n",
    "## Objective\n",
    "\n",
    "# Add penalty for using too many jewels\n",
    "\n",
    "# Add additional objective value for eventual addional talents (still minimize nb of jewels)\n",
    "\n",
    "# Add talent objective weighting\n",
    "\n",
    "# Add optional strict talent optimization\n",
    "single_objective = _vars[\"talent_sums\"][\"Vengeance\"]\n",
    "\n",
    "model.maximize(single_objective)\n",
    "solver = cp_model.CpSolver()\n",
    "status = solver.solve(model)\n",
    "\n",
    "solver_statuses = {\n",
    "    cp_model.FEASIBLE: \"FEASIBLE\",\n",
    "    cp_model.MODEL_INVALID: \"MODEL_INVALID\",\n",
    "    cp_model.OPTIMAL: \"OPTIMAL\",\n",
    "    cp_model.INFEASIBLE: \"INFEASIBLE\",\n",
    "    cp_model.UNKNOWN: \"UNKNOWN\",\n",
    "}\n",
    "\n",
    "print(f\"Solver status: {solver_statuses[status]}\")\n",
    "for armor_piece, var_dict in _vars[\"use_armor_piece_booleans\"].items():\n",
    "    for name, var in var_dict.items():\n",
    "        if solver.value(var) == 1:\n",
    "            print(f\"{name} ({armor_piece})\")\n",
    "            display(armor.filter(pl.col(\"name\") == name))\n"
   ]
  }
 ],
 "metadata": {
  "kernelspec": {
   "display_name": ".venv",
   "language": "python",
   "name": "python3"
  },
  "language_info": {
   "codemirror_mode": {
    "name": "ipython",
    "version": 3
   },
   "file_extension": ".py",
   "mimetype": "text/x-python",
   "name": "python",
   "nbconvert_exporter": "python",
   "pygments_lexer": "ipython3",
   "version": "3.12.7"
  }
 },
 "nbformat": 4,
 "nbformat_minor": 2
}
